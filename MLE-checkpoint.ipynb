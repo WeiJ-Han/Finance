{
 "cells": [
  {
   "cell_type": "code",
   "execution_count": 1,
   "id": "628f4340",
   "metadata": {},
   "outputs": [],
   "source": [
    "#假設X是一個列表\n",
    "def MLE_mu_normal(X):\n",
    "    n = len(X)\n",
    "    return sum(X)/n\n",
    "\n",
    "def MLE_sigma_normal(X):\n",
    "    n = len(X)\n",
    "    mu_hat = MLE_mu_normal(X)\n",
    "    s = sum([(x-mu_hat)**2 for x in X])\n",
    "    return s/n"
   ]
  },
  {
   "cell_type": "code",
   "execution_count": 2,
   "id": "f81dfee4",
   "metadata": {},
   "outputs": [
    {
     "name": "stdout",
     "output_type": "stream",
     "text": [
      "2.0\n",
      "0.6666666666666666\n"
     ]
    }
   ],
   "source": [
    "print(MLE_mu_normal([1,2,3]))\n",
    "print(MLE_sigma_normal([1,2,3]))"
   ]
  },
  {
   "cell_type": "code",
   "execution_count": 3,
   "id": "d7fbdec5",
   "metadata": {},
   "outputs": [],
   "source": [
    "#讓我們看看實際資料吧\n",
    "import pandas as pd\n",
    "import matplotlib.pyplot as plt\n",
    "import sqlite3\n",
    "\n",
    "db = sqlite3.connect('TWStock_2')\n",
    "#台積電2330\n",
    "tsmc = pd.read_sql(con=db,sql='SELECT * FROM \"2330\"')"
   ]
  },
  {
   "cell_type": "code",
   "execution_count": 4,
   "id": "4e4eeec6",
   "metadata": {},
   "outputs": [],
   "source": [
    "tsmc.index = tsmc['Date']\n",
    "tsmc.index = pd.to_datetime(tsmc.index)\n",
    "tsmc = tsmc[['證券名稱','收盤價']]\n",
    "tsmc['收盤價'] = pd.to_numeric(tsmc['收盤價'].apply(lambda x:x.replace(',','')),errors='coerce')\n",
    "tsmc.columns = ['stock_code','close']\n",
    "tsmc = tsmc[['close']].resample('w').mean().dropna() #周平均"
   ]
  },
  {
   "cell_type": "code",
   "execution_count": 5,
   "id": "0500d5be",
   "metadata": {},
   "outputs": [
    {
     "data": {
      "text/html": [
       "<div>\n",
       "<style scoped>\n",
       "    .dataframe tbody tr th:only-of-type {\n",
       "        vertical-align: middle;\n",
       "    }\n",
       "\n",
       "    .dataframe tbody tr th {\n",
       "        vertical-align: top;\n",
       "    }\n",
       "\n",
       "    .dataframe thead th {\n",
       "        text-align: right;\n",
       "    }\n",
       "</style>\n",
       "<table border=\"1\" class=\"dataframe\">\n",
       "  <thead>\n",
       "    <tr style=\"text-align: right;\">\n",
       "      <th></th>\n",
       "      <th>stock_code</th>\n",
       "      <th>close</th>\n",
       "    </tr>\n",
       "    <tr>\n",
       "      <th>Date</th>\n",
       "      <th></th>\n",
       "      <th></th>\n",
       "    </tr>\n",
       "  </thead>\n",
       "  <tbody>\n",
       "    <tr>\n",
       "      <th>2019-06-03</th>\n",
       "      <td>台積電</td>\n",
       "      <td>238.0</td>\n",
       "    </tr>\n",
       "    <tr>\n",
       "      <th>2019-06-04</th>\n",
       "      <td>台積電</td>\n",
       "      <td>233.0</td>\n",
       "    </tr>\n",
       "    <tr>\n",
       "      <th>2019-06-05</th>\n",
       "      <td>台積電</td>\n",
       "      <td>235.0</td>\n",
       "    </tr>\n",
       "    <tr>\n",
       "      <th>2019-06-06</th>\n",
       "      <td>台積電</td>\n",
       "      <td>232.0</td>\n",
       "    </tr>\n",
       "    <tr>\n",
       "      <th>2019-06-10</th>\n",
       "      <td>台積電</td>\n",
       "      <td>240.0</td>\n",
       "    </tr>\n",
       "  </tbody>\n",
       "</table>\n",
       "</div>"
      ],
      "text/plain": [
       "           stock_code  close\n",
       "Date                        \n",
       "2019-06-03        台積電  238.0\n",
       "2019-06-04        台積電  233.0\n",
       "2019-06-05        台積電  235.0\n",
       "2019-06-06        台積電  232.0\n",
       "2019-06-10        台積電  240.0"
      ]
     },
     "execution_count": 5,
     "metadata": {},
     "output_type": "execute_result"
    }
   ],
   "source": [
    "tsmc.head()"
   ]
  },
  {
   "cell_type": "code",
   "execution_count": 6,
   "id": "44a5dc50",
   "metadata": {},
   "outputs": [],
   "source": [
    "tsmc = tsmc[['close']].resample('W').mean().dropna()"
   ]
  },
  {
   "cell_type": "code",
   "execution_count": 7,
   "id": "5376bee0",
   "metadata": {},
   "outputs": [],
   "source": [
    "#計算連續報酬率\n",
    "import math\n",
    "\n",
    "price_list = list(tsmc['close'])\n",
    "ratio_list = [p_1/p_2 for p_1,p_2 in zip(price_list[1:],price_list[:-1])]\n",
    "c_return_list = [math.log(x) for x in ratio_list]"
   ]
  },
  {
   "cell_type": "code",
   "execution_count": 8,
   "id": "fb44f8e5",
   "metadata": {},
   "outputs": [
    {
     "name": "stdout",
     "output_type": "stream",
     "text": [
      "0.006926285067049133\n",
      "0.0008981253595020896\n"
     ]
    }
   ],
   "source": [
    "#常態參數估計\n",
    "mu = MLE_mu_normal(c_return_list)\n",
    "sigma_2 = MLE_sigma_normal(c_return_list)\n",
    "print(mu)\n",
    "print(sigma_2)"
   ]
  },
  {
   "cell_type": "code",
   "execution_count": 9,
   "id": "036db9d4",
   "metadata": {},
   "outputs": [
    {
     "data": {
      "image/png": "[encoded data removed]",
      "text/plain": [
       "<Figure size 432x288 with 1 Axes>"
      ]
     },
     "metadata": {
      "needs_background": "light"
     },
     "output_type": "display_data"
    }
   ],
   "source": [
    "#讓我們畫畫圖吧\n",
    "import scipy.stats as stats #常態分配機率函數\n",
    "import numpy as np\n",
    "\n",
    "h = sorted(c_return_list)\n",
    "x_axis = np.arange(h[0],h[-1], 0.0001)\n",
    "plt.plot(x_axis,stats.norm.pdf(x_axis,mu,math.sqrt(sigma_2))) #常態分配曲線\n",
    "plt.hist(h)  #樣本長條圖\n",
    "plt.show()"
   ]
  },
  {
   "cell_type": "code",
   "execution_count": 10,
   "id": "4a41966f",
   "metadata": {},
   "outputs": [
    {
     "name": "stdout",
     "output_type": "stream",
     "text": [
      "0.05869290801517078\n",
      "0.038282911954825916\n"
     ]
    }
   ],
   "source": [
    "#來估計週報酬小於-0.04的機率吧\n",
    "print(stats.norm(mu, math.sqrt(sigma_2)).cdf(-0.04))\n",
    "#大於0.06的機率\n",
    "print(1 - stats.norm(mu, math.sqrt(sigma_2)).cdf(0.06))"
   ]
  },
  {
   "cell_type": "code",
   "execution_count": null,
   "id": "791e742b",
   "metadata": {},
   "outputs": [],
   "source": []
  }
 ],
 "metadata": {
  "kernelspec": {
   "display_name": "Python 3 (ipykernel)",
   "language": "python",
   "name": "python3"
  },
  "language_info": {
   "codemirror_mode": {
    "name": "ipython",
    "version": 3
   },
   "file_extension": ".py",
   "mimetype": "text/x-python",
   "name": "python",
   "nbconvert_exporter": "python",
   "pygments_lexer": "ipython3",
   "version": "3.9.7"
  }
 },
 "nbformat": 4,
 "nbformat_minor": 5
}
