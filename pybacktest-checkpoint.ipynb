{
 "cells": [
  {
   "cell_type": "code",
   "execution_count": 6,
   "id": "6275a71e",
   "metadata": {},
   "outputs": [],
   "source": [
    "#載入套件庫與讀入資料\n",
    "import pandas as pd\n",
    "import matplotlib.pyplot as plt\n",
    "import sqlite3\n",
    "\n",
    "db = sqlite3.connect('TWStock_2')\n",
    "tsmc = pd.read_sql(con=db,sql='SELECT * FROM \"2330\"')"
   ]
  },
  {
   "cell_type": "code",
   "execution_count": 7,
   "id": "e9c13fcc",
   "metadata": {},
   "outputs": [],
   "source": [
    "#清理資料\n",
    "#我們需要成交股數、開盤價、最高價、最低價、收盤價的資料\n",
    "#並使用Date當作我們的索引值\n",
    "\n",
    "tsmc.index = pd.to_datetime(tsmc['Date'])\n",
    "tsmc = tsmc[['開盤價','最高價','最低價','收盤價']]\n",
    "tsmc.columns = ['O','H','L','C']\n",
    "cols = tsmc.columns\n",
    "tsmc[cols] = tsmc[cols].apply(pd.to_numeric, errors='coerce')"
   ]
  },
  {
   "cell_type": "code",
   "execution_count": 8,
   "id": "e171d9fb",
   "metadata": {},
   "outputs": [
    {
     "data": {
      "text/html": [
       "<div>\n",
       "<style scoped>\n",
       "    .dataframe tbody tr th:only-of-type {\n",
       "        vertical-align: middle;\n",
       "    }\n",
       "\n",
       "    .dataframe tbody tr th {\n",
       "        vertical-align: top;\n",
       "    }\n",
       "\n",
       "    .dataframe thead th {\n",
       "        text-align: right;\n",
       "    }\n",
       "</style>\n",
       "<table border=\"1\" class=\"dataframe\">\n",
       "  <thead>\n",
       "    <tr style=\"text-align: right;\">\n",
       "      <th></th>\n",
       "      <th>O</th>\n",
       "      <th>H</th>\n",
       "      <th>L</th>\n",
       "      <th>C</th>\n",
       "    </tr>\n",
       "    <tr>\n",
       "      <th>Date</th>\n",
       "      <th></th>\n",
       "      <th></th>\n",
       "      <th></th>\n",
       "      <th></th>\n",
       "    </tr>\n",
       "  </thead>\n",
       "  <tbody>\n",
       "    <tr>\n",
       "      <th>2019-06-03</th>\n",
       "      <td>235.5</td>\n",
       "      <td>238.5</td>\n",
       "      <td>232.0</td>\n",
       "      <td>238.0</td>\n",
       "    </tr>\n",
       "    <tr>\n",
       "      <th>2019-06-04</th>\n",
       "      <td>237.5</td>\n",
       "      <td>238.0</td>\n",
       "      <td>233.0</td>\n",
       "      <td>233.0</td>\n",
       "    </tr>\n",
       "    <tr>\n",
       "      <th>2019-06-05</th>\n",
       "      <td>238.0</td>\n",
       "      <td>238.0</td>\n",
       "      <td>234.0</td>\n",
       "      <td>235.0</td>\n",
       "    </tr>\n",
       "    <tr>\n",
       "      <th>2019-06-06</th>\n",
       "      <td>231.5</td>\n",
       "      <td>232.0</td>\n",
       "      <td>229.5</td>\n",
       "      <td>232.0</td>\n",
       "    </tr>\n",
       "    <tr>\n",
       "      <th>2019-06-10</th>\n",
       "      <td>237.5</td>\n",
       "      <td>240.0</td>\n",
       "      <td>234.5</td>\n",
       "      <td>240.0</td>\n",
       "    </tr>\n",
       "  </tbody>\n",
       "</table>\n",
       "</div>"
      ],
      "text/plain": [
       "                O      H      L      C\n",
       "Date                                  \n",
       "2019-06-03  235.5  238.5  232.0  238.0\n",
       "2019-06-04  237.5  238.0  233.0  233.0\n",
       "2019-06-05  238.0  238.0  234.0  235.0\n",
       "2019-06-06  231.5  232.0  229.5  232.0\n",
       "2019-06-10  237.5  240.0  234.5  240.0"
      ]
     },
     "execution_count": 8,
     "metadata": {},
     "output_type": "execute_result"
    }
   ],
   "source": [
    "tsmc.head()"
   ]
  },
  {
   "cell_type": "code",
   "execution_count": 9,
   "id": "08d205b3",
   "metadata": {},
   "outputs": [
    {
     "ename": "ModuleNotFoundError",
     "evalue": "No module named 'pybacktest'",
     "output_type": "error",
     "traceback": [
      "\u001b[1;31m---------------------------------------------------------------------------\u001b[0m",
      "\u001b[1;31mModuleNotFoundError\u001b[0m                       Traceback (most recent call last)",
      "\u001b[1;32m~\\AppData\\Local\\Temp/ipykernel_4432/2264466798.py\u001b[0m in \u001b[0;36m<module>\u001b[1;34m\u001b[0m\n\u001b[0;32m      1\u001b[0m \u001b[1;31m#載入pybacktest\u001b[0m\u001b[1;33m\u001b[0m\u001b[1;33m\u001b[0m\u001b[0m\n\u001b[0;32m      2\u001b[0m \u001b[1;33m\u001b[0m\u001b[0m\n\u001b[1;32m----> 3\u001b[1;33m \u001b[1;32mimport\u001b[0m \u001b[0mpybacktest\u001b[0m\u001b[1;33m\u001b[0m\u001b[1;33m\u001b[0m\u001b[0m\n\u001b[0m",
      "\u001b[1;31mModuleNotFoundError\u001b[0m: No module named 'pybacktest'"
     ]
    }
   ],
   "source": [
    "#載入pybacktest\n",
    "\n",
    "import pybacktest    "
   ]
  },
  {
   "cell_type": "code",
   "execution_count": null,
   "id": "f5776460",
   "metadata": {},
   "outputs": [],
   "source": [
    "short_ma = 50\n",
    "long_ma = 200\n",
    "\n",
    "short_mavg = tsmc['C'].rolling(short_ma).mean()\n",
    "long_mavg = tsmc['C'].rolling(long_ma).mean()\n",
    "\n",
    "buy = cover = (short_mavg > long_mavg) & (short_mavg.shift() < long_mavg.shift()) # ma cross up\n",
    "sell = short = (short_mavg < long_mavg) & (short_mavg.shift() > long_mavg.shift()) # ma cross down"
   ]
  },
  {
   "cell_type": "code",
   "execution_count": null,
   "id": "509235e7",
   "metadata": {},
   "outputs": [],
   "source": [
    "ohlc = tsmc.copy()"
   ]
  },
  {
   "cell_type": "code",
   "execution_count": null,
   "id": "69e76a60",
   "metadata": {},
   "outputs": [],
   "source": [
    "bt = pybacktest.Backtest(locals(), 'ma_cross')  "
   ]
  },
  {
   "cell_type": "code",
   "execution_count": null,
   "id": "c0e1e56f",
   "metadata": {},
   "outputs": [],
   "source": [
    "print(list(filter(lambda x: not x.startswith('_'), dir(bt))))"
   ]
  },
  {
   "cell_type": "code",
   "execution_count": null,
   "id": "11d12e93",
   "metadata": {},
   "outputs": [],
   "source": [
    "bt.trades"
   ]
  },
  {
   "cell_type": "code",
   "execution_count": null,
   "id": "6d4b396f",
   "metadata": {},
   "outputs": [],
   "source": [
    " bt.signals.tail()"
   ]
  },
  {
   "cell_type": "code",
   "execution_count": null,
   "id": "ba4191e9",
   "metadata": {},
   "outputs": [],
   "source": [
    "bt.positions"
   ]
  },
  {
   "cell_type": "code",
   "execution_count": null,
   "id": "da08087b",
   "metadata": {},
   "outputs": [],
   "source": [
    "bt.equity"
   ]
  },
  {
   "cell_type": "code",
   "execution_count": null,
   "id": "91c736b0",
   "metadata": {},
   "outputs": [],
   "source": [
    "bt.summary()"
   ]
  },
  {
   "cell_type": "code",
   "execution_count": null,
   "id": "6763df90",
   "metadata": {},
   "outputs": [],
   "source": [
    "%matplotlib inline\n",
    "import matplotlib\n",
    "import matplotlib.pyplot as plt\n",
    "matplotlib.rcParams['figure.figsize'] = (15.0, 8.0)\n",
    "\n",
    "bt.plot_equity()"
   ]
  },
  {
   "cell_type": "code",
   "execution_count": null,
   "id": "f0a37553",
   "metadata": {},
   "outputs": [],
   "source": [
    "bt.plot_trades()\n",
    "ohlc.C.rolling(short_ma).mean().plot(c='green')\n",
    "ohlc.C.rolling(long_ma).mean().plot(c='blue')\n",
    "plt.legend(loc='upper left')\n",
    "pass"
   ]
  }
 ],
 "metadata": {
  "kernelspec": {
   "display_name": "Python 3 (ipykernel)",
   "language": "python",
   "name": "python3"
  },
  "language_info": {
   "codemirror_mode": {
    "name": "ipython",
    "version": 3
   },
   "file_extension": ".py",
   "mimetype": "text/x-python",
   "name": "python",
   "nbconvert_exporter": "python",
   "pygments_lexer": "ipython3",
   "version": "3.9.7"
  }
 },
 "nbformat": 4,
 "nbformat_minor": 5
}
